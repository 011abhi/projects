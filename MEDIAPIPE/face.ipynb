{
 "cells": [
  {
   "cell_type": "code",
   "execution_count": 1,
   "metadata": {},
   "outputs": [],
   "source": [
    "import cv2\n",
    "import mediapipe as mp"
   ]
  },
  {
   "cell_type": "code",
   "execution_count": 2,
   "metadata": {},
   "outputs": [],
   "source": [
    "mp_face=mp.solutions.face_mesh\n",
    "mp_draw=mp.solutions.drawing_utils"
   ]
  },
  {
   "cell_type": "code",
   "execution_count": 3,
   "metadata": {},
   "outputs": [],
   "source": [
    "face=mp_face.FaceMesh(max_num_faces=10)"
   ]
  },
  {
   "cell_type": "code",
   "execution_count": 4,
   "metadata": {},
   "outputs": [],
   "source": [
    "cap=cv2.VideoCapture(0)\n",
    "while True:\n",
    "    ret,frame=cap.read()\n",
    "    if not ret:\n",
    "        print('no')\n",
    "        break\n",
    "    img_rbg=cv2.cvtColor(frame,cv2.COLOR_BGR2RGB)\n",
    "    res=face.process(img_rbg).multi_face_landmarks\n",
    "    if res :\n",
    "        for landmarks in res:\n",
    "            mp_draw.draw_landmarks(frame,landmarks, mp_face.FACEMESH_TESSELATION)\n",
    "            cv2.putText(frame, f\"NO OF FACES: {len(res)}\", (50, 50), cv2.FONT_HERSHEY_SIMPLEX, 1, (255, 0, 255), 2)\n",
    "    else:\n",
    "        cv2.putText(frame, \"NO FACE DETECTED\", (50, 50), cv2.FONT_HERSHEY_COMPLEX, 1, (255, 255, 0), 2)\n",
    "\n",
    "    cv2.imshow(\"frame\",frame)\n",
    "    \n",
    "    if cv2.waitKey(1)==ord(\"a\"):\n",
    "        cv2.destroyAllWindows()\n",
    "        cap.release()\n",
    "        break       "
   ]
  },
  {
   "cell_type": "markdown",
   "metadata": {},
   "source": []
  },
  {
   "cell_type": "code",
   "execution_count": null,
   "metadata": {},
   "outputs": [],
   "source": []
  }
 ],
 "metadata": {
  "kernelspec": {
   "display_name": "Python 3",
   "language": "python",
   "name": "python3"
  },
  "language_info": {
   "codemirror_mode": {
    "name": "ipython",
    "version": 3
   },
   "file_extension": ".py",
   "mimetype": "text/x-python",
   "name": "python",
   "nbconvert_exporter": "python",
   "pygments_lexer": "ipython3",
   "version": "3.12.4"
  }
 },
 "nbformat": 4,
 "nbformat_minor": 2
}
