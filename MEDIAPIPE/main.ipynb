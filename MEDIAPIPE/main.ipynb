{
 "cells": [
  {
   "cell_type": "code",
   "execution_count": 1,
   "metadata": {},
   "outputs": [],
   "source": [
    "import mediapipe as mp\n",
    "import cv2"
   ]
  },
  {
   "cell_type": "code",
   "execution_count": 2,
   "metadata": {},
   "outputs": [],
   "source": [
    "mp_hands=mp.solutions.hands\n",
    "mp_draw=mp.solutions.drawing_utils"
   ]
  },
  {
   "cell_type": "code",
   "execution_count": 3,
   "metadata": {},
   "outputs": [],
   "source": [
    "hand=mp_hands.Hands(max_num_hands=10)"
   ]
  },
  {
   "cell_type": "code",
   "execution_count": 15,
   "metadata": {},
   "outputs": [
    {
     "data": {
      "text/plain": [
       "2"
      ]
     },
     "execution_count": 15,
     "metadata": {},
     "output_type": "execute_result"
    }
   ],
   "source": [
    "img_array=cv2.imread(\"hand_image.jpeg\")\n",
    "img_rbg=cv2.cvtColor(img_array,cv2.COLOR_BGR2RGB)\n",
    "res=hand.process(img_rbg)\n",
    "len(res.multi_hand_landmarks)"
   ]
  },
  {
   "cell_type": "code",
   "execution_count": 20,
   "metadata": {},
   "outputs": [],
   "source": [
    "if res.multi_hand_landmarks:\n",
    "    for i in res.multi_hand_landmarks:\n",
    "        mp_draw.draw_landmarks(img_array,i,mp_hands.HAND_CONNECTIONS)\n",
    "        cv2.imshow(\"image\",img_array)\n",
    "        cv2.waitKey(0)\n",
    "        cv2.destroyAllWindows()"
   ]
  },
  {
   "cell_type": "code",
   "execution_count": 26,
   "metadata": {},
   "outputs": [],
   "source": [
    "cap=cv2.VideoCapture(0)\n",
    "while True:\n",
    "    ret,frame=cap.read()\n",
    "    if not ret:\n",
    "        print('no')\n",
    "        break\n",
    "    img_rbg=cv2.cvtColor(frame,cv2.COLOR_BGR2RGB)\n",
    "    res=hand.process(img_rbg)\n",
    "    if res.multi_hand_landmarks:\n",
    "        \n",
    "        for landmarks in res.multi_hand_landmarks:\n",
    "            tips=[8,12,16,20]\n",
    "            pip=[6,10,14,18]\n",
    "            flag=True\n",
    "            for i,j in zip(tips,pip):\n",
    "                if landmarks.landmark[i].x > landmarks.landmark[j].x:\n",
    "                    flag=False\n",
    "                    break\n",
    "                if landmarks.landmark[4].y>landmarks.landmark[3].y:\n",
    "                    flag=False\n",
    "                    break\n",
    "            if flag:\n",
    "                cv2.putText(frame,f\"THUMBS UP\",(50,50),cv2.FONT_HERSHEY_COMPLEX,1,(0,255,255),2)\n",
    "            \n",
    "            flag1=True\n",
    "            if (landmarks.landmark[17].y > landmarks.landmark[5].y) :\n",
    "                flag1=False\n",
    "            if (landmarks.landmark[i].x > landmarks.landmark[j].x) :\n",
    "                flag1=False\n",
    "            if landmarks.landmark[4].y < landmarks.landmark[1].y :\n",
    "                flag1=False\n",
    "            if flag1:\n",
    "                cv2.putText(frame,f\"THUMBS DOWN\",(50,50),cv2.FONT_HERSHEY_COMPLEX,1,(255,255,255),2)\n",
    "\n",
    "            mp_draw.draw_landmarks(frame,landmarks,mp_hands.HAND_CONNECTIONS)\n",
    "            \n",
    "    else:\n",
    "        cv2.putText(frame, \"NO HANDS DETECTED\", (50, 50), cv2.FONT_HERSHEY_COMPLEX, 1, (255, 255, 0), 2)\n",
    "\n",
    "    cv2.imshow(\"frame\",frame)\n",
    "    \n",
    "    if cv2.waitKey(50)==ord(\"a\"):\n",
    "        cv2.destroyAllWindows()\n",
    "        cap.release()\n",
    "        break        "
   ]
  },
  {
   "cell_type": "code",
   "execution_count": 6,
   "metadata": {},
   "outputs": [],
   "source": [
    "def thumbs_up(landmarks):\n",
    "    tips=[8,12,16,20]\n",
    "    pip=[6,10,14,18]\n",
    "    flag=True\n",
    "    for i,j in zip(tips,pip):\n",
    "        if landmarks.landmark[i].x > landmarks.landmark[j].x:\n",
    "            flag=False\n",
    "            break\n",
    "        if landmarks.landmark[4].y>landmarks.landmark[3].y:\n",
    "            flag=False\n",
    "            break\n",
    "    return flag"
   ]
  },
  {
   "cell_type": "code",
   "execution_count": 46,
   "metadata": {},
   "outputs": [],
   "source": [
    "def victory(landmarks):\n",
    "    tips=[16,20]\n",
    "    pip=[14,18]\n",
    "    flag1=True\n",
    "    for i,j in zip(tips,pip):\n",
    "        if landmarks.landmark[i].y < landmarks.landmark[j].y: \n",
    "            flag1 = False\n",
    "        if landmarks.landmark[8].y > landmarks.landmark[6].y or  landmarks.landmark[12].y > landmarks.landmark[10].y:  \n",
    "            flag1 = False\n",
    "        if landmarks.landmark[4].x > landmarks.landmark[3].x or landmarks.landmark[4].y > landmarks.landmark[3].y: \n",
    "            flag1 = False\n",
    "    return flag1\n",
    "\n"
   ]
  },
  {
   "cell_type": "code",
   "execution_count": 8,
   "metadata": {},
   "outputs": [],
   "source": [
    "def count_finger(landmarks):\n",
    "    tips=[8,12,16,20]\n",
    "    pip=[6,10,14,18]\n",
    "    count=0\n",
    "    for i,j in zip(tips,pip):\n",
    "        if landmarks.landmark[i].y < landmarks.landmark[j].y:\n",
    "            count+=1\n",
    "        if landmarks.landmark[4].x <landmarks.landmark[3].x:\n",
    "            count+=1\n",
    "    return count"
   ]
  },
  {
   "cell_type": "code",
   "execution_count": 9,
   "metadata": {},
   "outputs": [],
   "source": [
    "cap=cv2.VideoCapture(0)\n",
    "while True:\n",
    "    ret,frame=cap.read()\n",
    "    if not ret:\n",
    "        print('no')\n",
    "        break\n",
    "    img_rbg=cv2.cvtColor(frame,cv2.COLOR_BGR2RGB)\n",
    "    res=hand.process(img_rbg)\n",
    "    if res.multi_hand_landmarks:\n",
    "        fingers=0\n",
    "        for landmarks in res.multi_hand_landmarks:\n",
    "            n=count_finger(landmarks)\n",
    "            fingers+=n\n",
    "            #if thumbs_up(landmarks):\n",
    "             #   cv2.putText(frame,f\"THUMBS UP\",(50,50),cv2.FONT_HERSHEY_COMPLEX,1,(0,255,255),2)\n",
    "            #if victory(landmarks):\n",
    "             #   cv2.putText(frame,f\"VICTORY\",(50,50),cv2.FONT_HERSHEY_COMPLEX,1,(255,255,255),2)\n",
    "            mp_draw.draw_landmarks(frame,landmarks,mp_hands.HAND_CONNECTIONS)\n",
    "        cv2.putText(frame,f\"{fingers} fingers\",(50,50),cv2.FONT_HERSHEY_COMPLEX,1,(255,255,0),2)\n",
    "    else:\n",
    "        cv2.putText(frame, \"NO HANDS DETECTED\", (50, 50), cv2.FONT_HERSHEY_COMPLEX, 1, (255, 255, 0), 2)\n",
    "\n",
    "    cv2.imshow(\"frame\",frame)\n",
    "    \n",
    "    if cv2.waitKey(50)==ord(\"a\"):\n",
    "        cv2.destroyAllWindows()\n",
    "        cap.release()\n",
    "        break"
   ]
  },
  {
   "cell_type": "code",
   "execution_count": null,
   "metadata": {},
   "outputs": [],
   "source": []
  }
 ],
 "metadata": {
  "kernelspec": {
   "display_name": "Python 3",
   "language": "python",
   "name": "python3"
  },
  "language_info": {
   "codemirror_mode": {
    "name": "ipython",
    "version": 3
   },
   "file_extension": ".py",
   "mimetype": "text/x-python",
   "name": "python",
   "nbconvert_exporter": "python",
   "pygments_lexer": "ipython3",
   "version": "3.12.4"
  }
 },
 "nbformat": 4,
 "nbformat_minor": 2
}
