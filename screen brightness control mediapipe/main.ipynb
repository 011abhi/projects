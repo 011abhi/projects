{
 "cells": [
  {
   "cell_type": "code",
   "execution_count": 2,
   "metadata": {},
   "outputs": [],
   "source": [
    "import screen_brightness_control as sbc\n",
    "import mediapipe as mp\n",
    "import cv2"
   ]
  },
  {
   "cell_type": "code",
   "execution_count": 3,
   "metadata": {},
   "outputs": [],
   "source": [
    "mp_hands=mp.solutions.hands\n",
    "mp_draw=mp.solutions.drawing_utils\n",
    "hand=mp_hands.Hands(max_num_hands=1)"
   ]
  },
  {
   "cell_type": "code",
   "execution_count": 4,
   "metadata": {},
   "outputs": [],
   "source": [
    "sbc.set_brightness(100)"
   ]
  },
  {
   "cell_type": "code",
   "execution_count": 5,
   "metadata": {},
   "outputs": [],
   "source": [
    "import numpy as np"
   ]
  },
  {
   "cell_type": "code",
   "execution_count": 12,
   "metadata": {},
   "outputs": [],
   "source": [
    "def distance(landmarks,frame):\n",
    "    h,w,_=frame.shape\n",
    "    x1=int(landmarks.landmark[8].x*w)\n",
    "    y1=int(landmarks.landmark[8].y*h)\n",
    "    z1=int(landmarks.landmark[8].z)\n",
    "    x2=int(landmarks.landmark[4].x*w)\n",
    "    y2=int(landmarks.landmark[4].y*h)\n",
    "    z2=int(landmarks.landmark[4].z)\n",
    "    d = np.sqrt((x2 - x1) ** 2 + (y2 - y1) ** 2 + 0.5)\n",
    "    return np.interp(d, [30, 300], [0, 100]),((x1,y1),(x2,y2))\n"
   ]
  },
  {
   "cell_type": "code",
   "execution_count": 20,
   "metadata": {},
   "outputs": [],
   "source": [
    "cap=cv2.VideoCapture(0)\n",
    "while True:\n",
    "    ret,frame=cap.read()\n",
    "    if not ret:\n",
    "        print(\"nothing\")\n",
    "        break\n",
    "    h,w,_=frame.shape\n",
    "    frame_rgb=cv2.cvtColor(frame,cv2.COLOR_BGR2RGB)\n",
    "    result=hand.process(frame_rgb)\n",
    "    if result.multi_hand_landmarks:\n",
    "        landmarks=result.multi_hand_landmarks[0]\n",
    "        brightness,points=distance(landmarks,frame)\n",
    "        point1 = (points[0][0], points[0][1])  \n",
    "        point2 = (points[1][0], points[1][1]) \n",
    "        cv2.circle(frame, point1, 10, (0, 0, 255), cv2.FILLED)  # Red circle at index fingertip\n",
    "        cv2.circle(frame, point2, 10, (0, 255, 0), cv2.FILLED)  # Green circle at thumb tip\n",
    "\n",
    "        sbc.set_brightness(brightness)\n",
    "        cv2.putText(frame, f\"BRIGHTNESS: {int(brightness)}\", (10, h - 20),cv2.FONT_HERSHEY_SIMPLEX, 1, (255, 0, 255), 2)\n",
    "        \n",
    "    cv2.imshow(\"frame\",frame)\n",
    "    if cv2.waitKey(1)==ord(\"q\"):\n",
    "        cap.release()\n",
    "        cv2.destroyAllWindows()\n",
    "        break   \n",
    "\n"
   ]
  },
  {
   "cell_type": "code",
   "execution_count": null,
   "metadata": {},
   "outputs": [],
   "source": []
  }
 ],
 "metadata": {
  "kernelspec": {
   "display_name": "Python 3",
   "language": "python",
   "name": "python3"
  },
  "language_info": {
   "codemirror_mode": {
    "name": "ipython",
    "version": 3
   },
   "file_extension": ".py",
   "mimetype": "text/x-python",
   "name": "python",
   "nbconvert_exporter": "python",
   "pygments_lexer": "ipython3",
   "version": "3.12.4"
  }
 },
 "nbformat": 4,
 "nbformat_minor": 2
}
