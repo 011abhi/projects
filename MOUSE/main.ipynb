{
 "cells": [
  {
   "cell_type": "code",
   "execution_count": 1,
   "metadata": {},
   "outputs": [],
   "source": [
    "import cv2\n",
    "import mediapipe as mp"
   ]
  },
  {
   "cell_type": "code",
   "execution_count": 11,
   "metadata": {},
   "outputs": [],
   "source": [
    "from pynput.mouse import Button, Controller\n",
    "import pyautogui"
   ]
  },
  {
   "cell_type": "code",
   "execution_count": 30,
   "metadata": {},
   "outputs": [],
   "source": [
    "import time\n"
   ]
  },
  {
   "cell_type": "code",
   "execution_count": 12,
   "metadata": {},
   "outputs": [],
   "source": [
    "mouse=Controller()"
   ]
  },
  {
   "cell_type": "markdown",
   "metadata": {},
   "source": [
    "screen width,height"
   ]
  },
  {
   "cell_type": "code",
   "execution_count": 15,
   "metadata": {},
   "outputs": [],
   "source": [
    "screenwidth,screenheight=pyautogui.size()"
   ]
  },
  {
   "cell_type": "markdown",
   "metadata": {},
   "source": [
    "function index finger value  (tip)"
   ]
  },
  {
   "cell_type": "code",
   "execution_count": 17,
   "metadata": {},
   "outputs": [],
   "source": [
    "def index_finger_tip(landmarks):\n",
    "    index_tip=(int(landmarks.landmark[8].x*screenwidth),int(landmarks.landmark[8].y*screenheight))\n",
    "    return index_tip\n",
    "\n"
   ]
  },
  {
   "cell_type": "code",
   "execution_count": 4,
   "metadata": {},
   "outputs": [],
   "source": [
    "mp_hands=mp.solutions.hands\n",
    "mp_drawing_utils=mp.solutions.drawing_utils\n",
    "hand=mp_hands.Hands(max_num_hands=1)"
   ]
  },
  {
   "cell_type": "code",
   "execution_count": 2,
   "metadata": {},
   "outputs": [],
   "source": [
    "def count(landmarks):\n",
    "    tip=[8,12,16,20]\n",
    "    pip=[7,11,15,19]\n",
    "    c=0\n",
    "    for i,j in zip(tip,pip):\n",
    "        if landmarks.landmark[i].y<landmarks.landmark[j].y:\n",
    "            c+=1\n",
    "    if landmarks.landmark[3].x>landmarks.landmark[17].x:\n",
    "        if landmarks.landmark[4].x>landmarks.landmark[2].x:\n",
    "            c+=1\n",
    "    elif landmarks.landmark[3].x<landmarks.landmark[17].x:\n",
    "        if landmarks.landmark[4].x<landmarks.landmark[2].x:\n",
    "            c+=1\n",
    "    return c"
   ]
  },
  {
   "cell_type": "code",
   "execution_count": null,
   "metadata": {},
   "outputs": [],
   "source": []
  },
  {
   "cell_type": "code",
   "execution_count": 52,
   "metadata": {},
   "outputs": [],
   "source": [
    "cap=cv2.VideoCapture(0)\n",
    "while True:\n",
    "    ret,frame=cap.read()\n",
    "    if ret==False:\n",
    "        break\n",
    "    h,w,_=frame.shape\n",
    "    frame=cv2.flip(frame,1)\n",
    "    rgb_img=cv2.cvtColor(frame,cv2.COLOR_BGR2RGB)\n",
    "    results=hand.process(rgb_img).multi_hand_landmarks\n",
    "    if results:\n",
    "        landmarks=results[0]\n",
    "        dectect_gesture(landmarks)\n",
    "        mp_drawing_utils.draw_landmarks(frame,landmarks,mp_hands.HAND_CONNECTIONS)\n",
    "    cv2.imshow(\"mouse\",frame)\n",
    "    if cv2.waitKey(10)==ord('q'):\n",
    "        cv2.destroyAllWindows()\n",
    "        cap.release()"
   ]
  },
  {
   "cell_type": "markdown",
   "metadata": {},
   "source": [
    "dectect gesture\n"
   ]
  },
  {
   "cell_type": "code",
   "execution_count": 51,
   "metadata": {},
   "outputs": [],
   "source": [
    "def dectect_gesture(landmarks):\n",
    "    index_tip=index_finger_tip(landmarks)\n",
    "    fingers=count(landmarks)\n",
    "    #move cursor\n",
    "    if fingers==1 and landmarks.landmark[8].y<landmarks.landmark[6].y:\n",
    "        pyautogui.moveTo(index_tip)\n",
    "    #left click\n",
    "    elif fingers==2 and (landmarks.landmark[8].y<landmarks.landmark[6].y) and (landmarks.landmark[12].y<landmarks.landmark[10].y):\n",
    "        mouse.click(Button.left)\n",
    "        mouse.release(Button.left)\n",
    "        time.sleep(0.4)\n",
    "        #right click\n",
    "    elif fingers==3 and landmarks.landmark[8].y<landmarks.landmark[6].y:\n",
    "        mouse.click(Button.right)\n",
    "        mouse.release(Button.right)\n",
    "        time.sleep(0.4)\n",
    "    #double click\n",
    "    elif fingers==0 :\n",
    "        mouse.click(Button.left,2)\n",
    "        mouse.release(Button.left)\n",
    "        time.sleep(0.4)\n",
    "    #screen shot\n",
    "    elif fingers==5:\n",
    "        screenshot=pyautogui.screenshot()\n",
    "        screenshot.save(f\"img{landmarks.landmark[8].x*screenwidth}.jpg\")\n",
    "        time.sleep(1)"
   ]
  },
  {
   "cell_type": "code",
   "execution_count": null,
   "metadata": {},
   "outputs": [],
   "source": []
  }
 ],
 "metadata": {
  "kernelspec": {
   "display_name": "Python 3",
   "language": "python",
   "name": "python3"
  },
  "language_info": {
   "codemirror_mode": {
    "name": "ipython",
    "version": 3
   },
   "file_extension": ".py",
   "mimetype": "text/x-python",
   "name": "python",
   "nbconvert_exporter": "python",
   "pygments_lexer": "ipython3",
   "version": "3.12.4"
  }
 },
 "nbformat": 4,
 "nbformat_minor": 2
}
